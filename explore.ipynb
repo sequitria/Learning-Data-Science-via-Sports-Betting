{
 "cells": [
  {
   "cell_type": "code",
   "execution_count": 79,
   "id": "75fece78",
   "metadata": {},
   "outputs": [],
   "source": [
    "import pandas as pd\n",
    "import json"
   ]
  },
  {
   "cell_type": "code",
   "execution_count": 80,
   "id": "d8adae03",
   "metadata": {},
   "outputs": [],
   "source": [
    "file_2021 = open('wnba_betting_data/2021/player_game_stats_2021.csv')\n",
    "file_2022 = open('wnba_betting_data/2022/player_game_stats_2022.csv')\n",
    "file_2023 = open('wnba_betting_data/2023/player_game_stats_2023.csv')\n",
    "file_2024 = open('wnba_betting_data/2024/player_game_stats_2024.csv')\n"
   ]
  },
  {
   "cell_type": "code",
   "execution_count": 81,
   "id": "d884eeff",
   "metadata": {},
   "outputs": [],
   "source": [
    "df_2021 = pd.read_csv(file_2021)\n",
    "df_2022 = pd.read_csv(file_2022)\n",
    "df_2023 = pd.read_csv(file_2023)\n",
    "df_2024 = pd.read_csv(file_2024)\n"
   ]
  },
  {
   "cell_type": "markdown",
   "id": "cf2059ad",
   "metadata": {},
   "source": [
    "## Sumary of 3 point statistics for the 2021 season\n",
    "**Calculate:**\n",
    "- Average 3 points made -> in total | Starters only | Non-Starters\n",
    "- Average 3 points attempted -> in total | Starters only | Non-Starters\n",
    "\n",
    "- Average time played for starter -> Starters only\n",
    "- Average time played for non-starters -> Non Starters only\n"
   ]
  },
  {
   "cell_type": "code",
   "execution_count": 82,
   "id": "2c05c238",
   "metadata": {},
   "outputs": [
    {
     "name": "stdout",
     "output_type": "stream",
     "text": [
      "0.6219269102990034\n",
      "1.8110741971207087\n"
     ]
    }
   ],
   "source": [
    "# average 3 points made -> No category\n",
    "print(df_2021['three_points_made'].mean())\n",
    "\n",
    "# average 3 points attempted -> No Category\n",
    "print(df_2021['three_points_att'].mean())"
   ]
  },
  {
   "cell_type": "code",
   "execution_count": 83,
   "id": "72b9f3aa",
   "metadata": {},
   "outputs": [
    {
     "data": {
      "text/html": [
       "<div>\n",
       "<style scoped>\n",
       "    .dataframe tbody tr th:only-of-type {\n",
       "        vertical-align: middle;\n",
       "    }\n",
       "\n",
       "    .dataframe tbody tr th {\n",
       "        vertical-align: top;\n",
       "    }\n",
       "\n",
       "    .dataframe thead th {\n",
       "        text-align: right;\n",
       "    }\n",
       "</style>\n",
       "<table border=\"1\" class=\"dataframe\">\n",
       "  <thead>\n",
       "    <tr style=\"text-align: right;\">\n",
       "      <th></th>\n",
       "      <th>three_points_made</th>\n",
       "      <th>three_points_att</th>\n",
       "      <th>points</th>\n",
       "    </tr>\n",
       "  </thead>\n",
       "  <tbody>\n",
       "    <tr>\n",
       "      <th>count</th>\n",
       "      <td>4515.000000</td>\n",
       "      <td>4515.000000</td>\n",
       "      <td>4515.000000</td>\n",
       "    </tr>\n",
       "    <tr>\n",
       "      <th>mean</th>\n",
       "      <td>0.621927</td>\n",
       "      <td>1.811074</td>\n",
       "      <td>6.899668</td>\n",
       "    </tr>\n",
       "    <tr>\n",
       "      <th>std</th>\n",
       "      <td>1.068296</td>\n",
       "      <td>2.344020</td>\n",
       "      <td>7.327571</td>\n",
       "    </tr>\n",
       "    <tr>\n",
       "      <th>min</th>\n",
       "      <td>0.000000</td>\n",
       "      <td>0.000000</td>\n",
       "      <td>0.000000</td>\n",
       "    </tr>\n",
       "    <tr>\n",
       "      <th>25%</th>\n",
       "      <td>0.000000</td>\n",
       "      <td>0.000000</td>\n",
       "      <td>0.000000</td>\n",
       "    </tr>\n",
       "    <tr>\n",
       "      <th>50%</th>\n",
       "      <td>0.000000</td>\n",
       "      <td>1.000000</td>\n",
       "      <td>5.000000</td>\n",
       "    </tr>\n",
       "    <tr>\n",
       "      <th>75%</th>\n",
       "      <td>1.000000</td>\n",
       "      <td>3.000000</td>\n",
       "      <td>11.000000</td>\n",
       "    </tr>\n",
       "    <tr>\n",
       "      <th>max</th>\n",
       "      <td>7.000000</td>\n",
       "      <td>14.000000</td>\n",
       "      <td>37.000000</td>\n",
       "    </tr>\n",
       "  </tbody>\n",
       "</table>\n",
       "</div>"
      ],
      "text/plain": [
       "       three_points_made  three_points_att       points\n",
       "count        4515.000000       4515.000000  4515.000000\n",
       "mean            0.621927          1.811074     6.899668\n",
       "std             1.068296          2.344020     7.327571\n",
       "min             0.000000          0.000000     0.000000\n",
       "25%             0.000000          0.000000     0.000000\n",
       "50%             0.000000          1.000000     5.000000\n",
       "75%             1.000000          3.000000    11.000000\n",
       "max             7.000000         14.000000    37.000000"
      ]
     },
     "execution_count": 83,
     "metadata": {},
     "output_type": "execute_result"
    }
   ],
   "source": [
    "# A better format for stuff above\n",
    "df_2021.describe()\n"
   ]
  },
  {
   "cell_type": "code",
   "execution_count": 84,
   "id": "f75e8a12",
   "metadata": {},
   "outputs": [
    {
     "data": {
      "text/html": [
       "<div>\n",
       "<style scoped>\n",
       "    .dataframe tbody tr th:only-of-type {\n",
       "        vertical-align: middle;\n",
       "    }\n",
       "\n",
       "    .dataframe tbody tr th {\n",
       "        vertical-align: top;\n",
       "    }\n",
       "\n",
       "    .dataframe thead th {\n",
       "        text-align: right;\n",
       "    }\n",
       "</style>\n",
       "<table border=\"1\" class=\"dataframe\">\n",
       "  <thead>\n",
       "    <tr style=\"text-align: right;\">\n",
       "      <th></th>\n",
       "      <th>three_points_made</th>\n",
       "      <th>three_points_att</th>\n",
       "      <th>points</th>\n",
       "    </tr>\n",
       "  </thead>\n",
       "  <tbody>\n",
       "    <tr>\n",
       "      <th>count</th>\n",
       "      <td>5064.000000</td>\n",
       "      <td>5064.00000</td>\n",
       "      <td>5064.000000</td>\n",
       "    </tr>\n",
       "    <tr>\n",
       "      <th>mean</th>\n",
       "      <td>0.667457</td>\n",
       "      <td>1.93049</td>\n",
       "      <td>7.066746</td>\n",
       "    </tr>\n",
       "    <tr>\n",
       "      <th>std</th>\n",
       "      <td>1.108030</td>\n",
       "      <td>2.42035</td>\n",
       "      <td>7.240643</td>\n",
       "    </tr>\n",
       "    <tr>\n",
       "      <th>min</th>\n",
       "      <td>0.000000</td>\n",
       "      <td>0.00000</td>\n",
       "      <td>0.000000</td>\n",
       "    </tr>\n",
       "    <tr>\n",
       "      <th>25%</th>\n",
       "      <td>0.000000</td>\n",
       "      <td>0.00000</td>\n",
       "      <td>0.000000</td>\n",
       "    </tr>\n",
       "    <tr>\n",
       "      <th>50%</th>\n",
       "      <td>0.000000</td>\n",
       "      <td>1.00000</td>\n",
       "      <td>5.000000</td>\n",
       "    </tr>\n",
       "    <tr>\n",
       "      <th>75%</th>\n",
       "      <td>1.000000</td>\n",
       "      <td>3.00000</td>\n",
       "      <td>12.000000</td>\n",
       "    </tr>\n",
       "    <tr>\n",
       "      <th>max</th>\n",
       "      <td>8.000000</td>\n",
       "      <td>17.00000</td>\n",
       "      <td>38.000000</td>\n",
       "    </tr>\n",
       "  </tbody>\n",
       "</table>\n",
       "</div>"
      ],
      "text/plain": [
       "       three_points_made  three_points_att       points\n",
       "count        5064.000000        5064.00000  5064.000000\n",
       "mean            0.667457           1.93049     7.066746\n",
       "std             1.108030           2.42035     7.240643\n",
       "min             0.000000           0.00000     0.000000\n",
       "25%             0.000000           0.00000     0.000000\n",
       "50%             0.000000           1.00000     5.000000\n",
       "75%             1.000000           3.00000    12.000000\n",
       "max             8.000000          17.00000    38.000000"
      ]
     },
     "execution_count": 84,
     "metadata": {},
     "output_type": "execute_result"
    }
   ],
   "source": [
    "df_2022.describe()  \n"
   ]
  },
  {
   "cell_type": "code",
   "execution_count": 85,
   "id": "b4d1c1e0",
   "metadata": {},
   "outputs": [
    {
     "data": {
      "text/html": [
       "<div>\n",
       "<style scoped>\n",
       "    .dataframe tbody tr th:only-of-type {\n",
       "        vertical-align: middle;\n",
       "    }\n",
       "\n",
       "    .dataframe tbody tr th {\n",
       "        vertical-align: top;\n",
       "    }\n",
       "\n",
       "    .dataframe thead th {\n",
       "        text-align: right;\n",
       "    }\n",
       "</style>\n",
       "<table border=\"1\" class=\"dataframe\">\n",
       "  <thead>\n",
       "    <tr style=\"text-align: right;\">\n",
       "      <th></th>\n",
       "      <th>three_points_made</th>\n",
       "      <th>three_points_att</th>\n",
       "      <th>points</th>\n",
       "    </tr>\n",
       "  </thead>\n",
       "  <tbody>\n",
       "    <tr>\n",
       "      <th>count</th>\n",
       "      <td>5732.000000</td>\n",
       "      <td>5732.000000</td>\n",
       "      <td>5732.000000</td>\n",
       "    </tr>\n",
       "    <tr>\n",
       "      <th>mean</th>\n",
       "      <td>0.647069</td>\n",
       "      <td>1.868109</td>\n",
       "      <td>6.946615</td>\n",
       "    </tr>\n",
       "    <tr>\n",
       "      <th>std</th>\n",
       "      <td>1.142524</td>\n",
       "      <td>2.472402</td>\n",
       "      <td>7.768300</td>\n",
       "    </tr>\n",
       "    <tr>\n",
       "      <th>min</th>\n",
       "      <td>0.000000</td>\n",
       "      <td>0.000000</td>\n",
       "      <td>0.000000</td>\n",
       "    </tr>\n",
       "    <tr>\n",
       "      <th>25%</th>\n",
       "      <td>0.000000</td>\n",
       "      <td>0.000000</td>\n",
       "      <td>0.000000</td>\n",
       "    </tr>\n",
       "    <tr>\n",
       "      <th>50%</th>\n",
       "      <td>0.000000</td>\n",
       "      <td>1.000000</td>\n",
       "      <td>4.500000</td>\n",
       "    </tr>\n",
       "    <tr>\n",
       "      <th>75%</th>\n",
       "      <td>1.000000</td>\n",
       "      <td>3.000000</td>\n",
       "      <td>11.000000</td>\n",
       "    </tr>\n",
       "    <tr>\n",
       "      <th>max</th>\n",
       "      <td>10.000000</td>\n",
       "      <td>21.000000</td>\n",
       "      <td>53.000000</td>\n",
       "    </tr>\n",
       "  </tbody>\n",
       "</table>\n",
       "</div>"
      ],
      "text/plain": [
       "       three_points_made  three_points_att       points\n",
       "count        5732.000000       5732.000000  5732.000000\n",
       "mean            0.647069          1.868109     6.946615\n",
       "std             1.142524          2.472402     7.768300\n",
       "min             0.000000          0.000000     0.000000\n",
       "25%             0.000000          0.000000     0.000000\n",
       "50%             0.000000          1.000000     4.500000\n",
       "75%             1.000000          3.000000    11.000000\n",
       "max            10.000000         21.000000    53.000000"
      ]
     },
     "execution_count": 85,
     "metadata": {},
     "output_type": "execute_result"
    }
   ],
   "source": [
    "df_2023.describe()\n"
   ]
  },
  {
   "cell_type": "code",
   "execution_count": 86,
   "id": "000f0d6e",
   "metadata": {},
   "outputs": [
    {
     "data": {
      "text/html": [
       "<div>\n",
       "<style scoped>\n",
       "    .dataframe tbody tr th:only-of-type {\n",
       "        vertical-align: middle;\n",
       "    }\n",
       "\n",
       "    .dataframe tbody tr th {\n",
       "        vertical-align: top;\n",
       "    }\n",
       "\n",
       "    .dataframe thead th {\n",
       "        text-align: right;\n",
       "    }\n",
       "</style>\n",
       "<table border=\"1\" class=\"dataframe\">\n",
       "  <thead>\n",
       "    <tr style=\"text-align: right;\">\n",
       "      <th></th>\n",
       "      <th>three_points_made</th>\n",
       "      <th>three_points_att</th>\n",
       "      <th>points</th>\n",
       "    </tr>\n",
       "  </thead>\n",
       "  <tbody>\n",
       "    <tr>\n",
       "      <th>count</th>\n",
       "      <td>5661.000000</td>\n",
       "      <td>5661.000000</td>\n",
       "      <td>5661.000000</td>\n",
       "    </tr>\n",
       "    <tr>\n",
       "      <th>mean</th>\n",
       "      <td>0.659071</td>\n",
       "      <td>1.948596</td>\n",
       "      <td>6.964494</td>\n",
       "    </tr>\n",
       "    <tr>\n",
       "      <th>std</th>\n",
       "      <td>1.168038</td>\n",
       "      <td>2.570629</td>\n",
       "      <td>7.686755</td>\n",
       "    </tr>\n",
       "    <tr>\n",
       "      <th>min</th>\n",
       "      <td>0.000000</td>\n",
       "      <td>0.000000</td>\n",
       "      <td>0.000000</td>\n",
       "    </tr>\n",
       "    <tr>\n",
       "      <th>25%</th>\n",
       "      <td>0.000000</td>\n",
       "      <td>0.000000</td>\n",
       "      <td>0.000000</td>\n",
       "    </tr>\n",
       "    <tr>\n",
       "      <th>50%</th>\n",
       "      <td>0.000000</td>\n",
       "      <td>1.000000</td>\n",
       "      <td>4.000000</td>\n",
       "    </tr>\n",
       "    <tr>\n",
       "      <th>75%</th>\n",
       "      <td>1.000000</td>\n",
       "      <td>3.000000</td>\n",
       "      <td>12.000000</td>\n",
       "    </tr>\n",
       "    <tr>\n",
       "      <th>max</th>\n",
       "      <td>9.000000</td>\n",
       "      <td>17.000000</td>\n",
       "      <td>42.000000</td>\n",
       "    </tr>\n",
       "  </tbody>\n",
       "</table>\n",
       "</div>"
      ],
      "text/plain": [
       "       three_points_made  three_points_att       points\n",
       "count        5661.000000       5661.000000  5661.000000\n",
       "mean            0.659071          1.948596     6.964494\n",
       "std             1.168038          2.570629     7.686755\n",
       "min             0.000000          0.000000     0.000000\n",
       "25%             0.000000          0.000000     0.000000\n",
       "50%             0.000000          1.000000     4.000000\n",
       "75%             1.000000          3.000000    12.000000\n",
       "max             9.000000         17.000000    42.000000"
      ]
     },
     "execution_count": 86,
     "metadata": {},
     "output_type": "execute_result"
    }
   ],
   "source": [
    "df_2024.describe()"
   ]
  },
  {
   "cell_type": "markdown",
   "id": "f55a00d6",
   "metadata": {},
   "source": [
    "#### Normal boolean indexing to find 3 points made and attempted: "
   ]
  },
  {
   "cell_type": "code",
   "execution_count": 87,
   "id": "b4b6303c",
   "metadata": {},
   "outputs": [
    {
     "name": "stdout",
     "output_type": "stream",
     "text": [
      "1.0316062176165803\n",
      "2.981865284974093\n",
      "\n",
      "-----------------\n",
      "\n",
      "0.3160541586073501\n",
      "0.9369439071566731\n"
     ]
    }
   ],
   "source": [
    "print(df_2021[df_2021['starter'] == True]['three_points_made'].mean())\n",
    "print(df_2021[df_2021['starter'] == True]['three_points_att'].mean())\n",
    "\n",
    "print('\\n-----------------\\n')\n",
    "\n",
    "print(df_2021[df_2021['starter'] == False]['three_points_made'].mean())\n",
    "print(df_2021[df_2021['starter'] == False]['three_points_att'].mean())\n",
    "\n"
   ]
  },
  {
   "cell_type": "markdown",
   "id": "50958439",
   "metadata": {},
   "source": [
    "Starters are close to 3x better than the rest -> A lot "
   ]
  },
  {
   "cell_type": "markdown",
   "id": "53d4b3ff",
   "metadata": {},
   "source": [
    "## Different method using groupy for each year \n"
   ]
  },
  {
   "cell_type": "code",
   "execution_count": 88,
   "id": "4ca4c8f3",
   "metadata": {},
   "outputs": [
    {
     "name": "stdout",
     "output_type": "stream",
     "text": [
      "starter\n",
      "False    0.316054\n",
      "True     1.031606\n",
      "Name: three_points_made, dtype: float64\n",
      "\n",
      "-----------------\n",
      "\n",
      "starter\n",
      "False    0.936944\n",
      "True     2.981865\n",
      "Name: three_points_att, dtype: float64\n"
     ]
    }
   ],
   "source": [
    "print(df_2021.groupby('starter')['three_points_made'].mean())\n",
    "print('\\n-----------------\\n')\n",
    "print(df_2021.groupby('starter')['three_points_att'].mean())"
   ]
  },
  {
   "cell_type": "code",
   "execution_count": 89,
   "id": "98316d29",
   "metadata": {},
   "outputs": [
    {
     "name": "stdout",
     "output_type": "stream",
     "text": [
      "starter\n",
      "False    0.311334\n",
      "True     1.142396\n",
      "Name: three_points_made, dtype: float64\n",
      "\n",
      "-----------------\n",
      "\n",
      "starter\n",
      "False    0.937111\n",
      "True     3.255300\n",
      "Name: three_points_att, dtype: float64\n"
     ]
    }
   ],
   "source": [
    "print(df_2022.groupby('starter')['three_points_made'].mean())\n",
    "print('\\n-----------------\\n')\n",
    "print(df_2022.groupby('starter')['three_points_att'].mean())"
   ]
  },
  {
   "cell_type": "code",
   "execution_count": 90,
   "id": "7ed07d0c",
   "metadata": {},
   "outputs": [
    {
     "name": "stdout",
     "output_type": "stream",
     "text": [
      "starter\n",
      "False    0.272509\n",
      "True     1.167083\n",
      "Name: three_points_made, dtype: float64\n",
      "\n",
      "-----------------\n",
      "\n",
      "starter\n",
      "False    0.843637\n",
      "True     3.290417\n",
      "Name: three_points_att, dtype: float64\n"
     ]
    }
   ],
   "source": [
    "print(df_2023.groupby('starter')['three_points_made'].mean())\n",
    "print('\\n-----------------\\n')\n",
    "print(df_2023.groupby('starter')['three_points_att'].mean())"
   ]
  },
  {
   "cell_type": "code",
   "execution_count": 91,
   "id": "7cff086a",
   "metadata": {},
   "outputs": [
    {
     "name": "stdout",
     "output_type": "stream",
     "text": [
      "starter\n",
      "False    0.276530\n",
      "True     1.175104\n",
      "Name: three_points_made, dtype: float64\n",
      "\n",
      "-----------------\n",
      "\n",
      "starter\n",
      "False    0.85020\n",
      "True     3.43029\n",
      "Name: three_points_att, dtype: float64\n"
     ]
    }
   ],
   "source": [
    "print(df_2024.groupby('starter')['three_points_made'].mean())\n",
    "print('\\n-----------------\\n')\n",
    "print(df_2024.groupby('starter')['three_points_att'].mean())"
   ]
  },
  {
   "cell_type": "code",
   "execution_count": 92,
   "id": "e1474152",
   "metadata": {},
   "outputs": [
    {
     "data": {
      "text/plain": [
       "dtype('O')"
      ]
     },
     "execution_count": 92,
     "metadata": {},
     "output_type": "execute_result"
    }
   ],
   "source": [
    "df_2021['minutes'].dtype"
   ]
  },
  {
   "cell_type": "markdown",
   "id": "f9d35122",
   "metadata": {},
   "source": [
    "## Convert time from string to float to understand how long starters play compared to normal players"
   ]
  },
  {
   "cell_type": "code",
   "execution_count": 93,
   "id": "1d5e954d",
   "metadata": {},
   "outputs": [],
   "source": [
    "def time_convert(time_str):\n",
    "    minutes, seconds = map(float, time_str.split(':'))\n",
    "    time =  minutes + seconds/60\n",
    "    return round(time, 2)\n"
   ]
  },
  {
   "cell_type": "code",
   "execution_count": 94,
   "id": "b35f18fd",
   "metadata": {},
   "outputs": [
    {
     "data": {
      "text/plain": [
       "0       14.37\n",
       "1       28.70\n",
       "2        0.00\n",
       "3       36.92\n",
       "4        8.65\n",
       "        ...  \n",
       "4510    22.10\n",
       "4511     0.00\n",
       "4512    37.80\n",
       "4513     0.00\n",
       "4514    34.70\n",
       "Name: minutes, Length: 4515, dtype: float64"
      ]
     },
     "execution_count": 94,
     "metadata": {},
     "output_type": "execute_result"
    }
   ],
   "source": [
    "df_2021['minutes'].apply(time_convert) \n"
   ]
  },
  {
   "cell_type": "code",
   "execution_count": 95,
   "id": "de2b28fb",
   "metadata": {},
   "outputs": [
    {
     "data": {
      "text/plain": [
       "np.float64(28.331398963730567)"
      ]
     },
     "execution_count": 95,
     "metadata": {},
     "output_type": "execute_result"
    }
   ],
   "source": [
    "# How much time did a starter play?\n",
    "df_2021[df_2021['starter'] == True]['minutes'].apply(time_convert).mean()"
   ]
  },
  {
   "cell_type": "code",
   "execution_count": 96,
   "id": "1b9023d5",
   "metadata": {},
   "outputs": [
    {
     "data": {
      "text/plain": [
       "np.float64(8.960255319148937)"
      ]
     },
     "execution_count": 96,
     "metadata": {},
     "output_type": "execute_result"
    }
   ],
   "source": [
    "# How much time did a non-starter play?\n",
    "df_2021[df_2021['starter'] == False]['minutes'].apply(time_convert).mean()"
   ]
  },
  {
   "cell_type": "markdown",
   "id": "2be96c11",
   "metadata": {},
   "source": [
    "### Apply groupby function with lambda to do this faster for all years\n",
    "- The lambda function needs an apply because the groupby function gives the values in groups\n",
    "- The argument x in the lambda function takes each group as a series and applies the funtion on each group -> in this case 'True' or 'False'\n"
   ]
  },
  {
   "cell_type": "code",
   "execution_count": 97,
   "id": "b09bb8ed",
   "metadata": {},
   "outputs": [
    {
     "data": {
      "text/plain": [
       "starter\n",
       "False     8.960255\n",
       "True     28.331399\n",
       "Name: minutes, dtype: float64"
      ]
     },
     "execution_count": 97,
     "metadata": {},
     "output_type": "execute_result"
    }
   ],
   "source": [
    "df_2021.groupby('starter')['minutes'].apply(lambda x : x.apply(time_convert).mean())"
   ]
  },
  {
   "cell_type": "code",
   "execution_count": 98,
   "id": "97bf199f",
   "metadata": {},
   "outputs": [
    {
     "data": {
      "text/plain": [
       "starter\n",
       "False     9.104036\n",
       "True     28.130594\n",
       "Name: minutes, dtype: float64"
      ]
     },
     "execution_count": 98,
     "metadata": {},
     "output_type": "execute_result"
    }
   ],
   "source": [
    "df_2022.groupby('starter')['minutes'].apply(lambda x : x.apply(time_convert).mean())"
   ]
  },
  {
   "cell_type": "code",
   "execution_count": 99,
   "id": "302b5e1e",
   "metadata": {},
   "outputs": [
    {
     "data": {
      "text/plain": [
       "starter\n",
       "False     8.059556\n",
       "True     29.014171\n",
       "Name: minutes, dtype: float64"
      ]
     },
     "execution_count": 99,
     "metadata": {},
     "output_type": "execute_result"
    }
   ],
   "source": [
    "df_2023.groupby('starter')['minutes'].apply(lambda x : x.apply(time_convert).mean())"
   ]
  },
  {
   "cell_type": "code",
   "execution_count": 100,
   "id": "ae1b75a7",
   "metadata": {},
   "outputs": [
    {
     "data": {
      "text/plain": [
       "starter\n",
       "False     8.239357\n",
       "True     29.089340\n",
       "Name: minutes, dtype: float64"
      ]
     },
     "execution_count": 100,
     "metadata": {},
     "output_type": "execute_result"
    }
   ],
   "source": [
    "df_2024.groupby('starter')['minutes'].apply(lambda x : x.apply(time_convert).mean())"
   ]
  },
  {
   "cell_type": "markdown",
   "id": "aad324a2",
   "metadata": {},
   "source": [
    "#### From this we can tell that the starter players get 3x more time and hence more opportunities"
   ]
  },
  {
   "cell_type": "markdown",
   "id": "4e92b430",
   "metadata": {},
   "source": [
    "## Plot graphs for visual representations\n",
    "Graphs to see visually what's going on\n",
    "- Starters and their time played\n",
    "- Starters and their 3 points made and attempted\n",
    "- Teams and their 3PAs and 3PMs\n",
    "- Create new CSVs with position and add it\n"
   ]
  },
  {
   "cell_type": "markdown",
   "id": "bbe20a04",
   "metadata": {},
   "source": [
    "### Starters & Time Played"
   ]
  },
  {
   "cell_type": "code",
   "execution_count": null,
   "id": "115b8082",
   "metadata": {},
   "outputs": [],
   "source": []
  }
 ],
 "metadata": {
  "kernelspec": {
   "display_name": "deepquant",
   "language": "python",
   "name": "python3"
  },
  "language_info": {
   "codemirror_mode": {
    "name": "ipython",
    "version": 3
   },
   "file_extension": ".py",
   "mimetype": "text/x-python",
   "name": "python",
   "nbconvert_exporter": "python",
   "pygments_lexer": "ipython3",
   "version": "3.10.9"
  }
 },
 "nbformat": 4,
 "nbformat_minor": 5
}
